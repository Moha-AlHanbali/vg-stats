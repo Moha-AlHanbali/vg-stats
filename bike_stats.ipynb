{
 "cells": [
  {
   "cell_type": "markdown",
   "metadata": {},
   "source": [
    "# Lab: 12 - Data Analysis with Pandas\n",
    "\n",
    "## Bike Stats - Mohammed Al-Hanbali - 25/10/2021"
   ]
  },
  {
   "cell_type": "code",
   "execution_count": null,
   "metadata": {},
   "outputs": [],
   "source": [
    "import pandas as pd"
   ]
  },
  {
   "cell_type": "code",
   "execution_count": null,
   "metadata": {},
   "outputs": [],
   "source": [
    "bike_stats_trip = pd.read_csv('trip.csv', error_bad_lines=False) \n",
    "# bike_stats_trip"
   ]
  },
  {
   "cell_type": "code",
   "execution_count": null,
   "metadata": {},
   "outputs": [],
   "source": [
    "bike_stats_station = pd.read_csv('station.csv') \n",
    "# bike_stats_station"
   ]
  },
  {
   "cell_type": "code",
   "execution_count": null,
   "metadata": {},
   "outputs": [],
   "source": [
    "bike_stats_weather = pd.read_csv('weather.csv') \n",
    "# bike_stats_weather"
   ]
  },
  {
   "cell_type": "markdown",
   "metadata": {},
   "source": [
    "### 1.What is the average trip duration for a borrowed bicycle?"
   ]
  },
  {
   "cell_type": "code",
   "execution_count": null,
   "metadata": {},
   "outputs": [],
   "source": [
    "def borrowed_bicycle_average_trip_duration():\n",
    "    average_trip_duration = bike_stats_trip['tripduration'].mean()\n",
    "    return average_trip_duration"
   ]
  },
  {
   "cell_type": "markdown",
   "metadata": {},
   "source": [
    "### 2.What’s the most common age of a bicycle-sharer?"
   ]
  },
  {
   "cell_type": "code",
   "execution_count": null,
   "metadata": {},
   "outputs": [],
   "source": [
    "def common_sharer_age():\n",
    "    common_age = bike_stats_trip['birthyear'].mode()\n",
    "    return (2021 - common_age)"
   ]
  },
  {
   "cell_type": "markdown",
   "metadata": {},
   "source": [
    "### 3.Given all the weather data here, find the average precipitation per month, and the median precipitation."
   ]
  },
  {
   "cell_type": "code",
   "execution_count": null,
   "metadata": {},
   "outputs": [],
   "source": [
    "def get_month(date):\n",
    "    return int(date.split(\"/\")[0])\n",
    "    \n",
    "bike_stats_weather[\"Month\"] = bike_stats_weather[\"Date\"].apply(get_month)"
   ]
  },
  {
   "cell_type": "code",
   "execution_count": null,
   "metadata": {},
   "outputs": [],
   "source": [
    "def average_precipitation(month):  \n",
    "    month_data = bike_stats_weather[bike_stats_weather[\"Month\"] == month]\n",
    "    return month_data[\"Precipitation_In\"].mean()"
   ]
  },
  {
   "cell_type": "code",
   "execution_count": null,
   "metadata": {},
   "outputs": [],
   "source": [
    "def precipitation_median(month):\n",
    "    month_data = bike_stats_weather[bike_stats_weather[\"Month\"] == month]\n",
    "    return month_data[\"Precipitation_In\"].median()"
   ]
  },
  {
   "cell_type": "markdown",
   "metadata": {},
   "source": [
    "### 4.What’s the average number of bikes at a given bike station?"
   ]
  },
  {
   "cell_type": "code",
   "execution_count": null,
   "metadata": {},
   "outputs": [],
   "source": [
    "def average_bike_number():\n",
    "    bike_average = bike_stats_station['current_dockcount'].mean()\n",
    "    return (bike_average-0.5).round()\n"
   ]
  },
  {
   "cell_type": "markdown",
   "metadata": {},
   "source": [
    "### 5.When a bike station is modified, is it more likely that it’ll lose bikes or gain bikes? How do you know?"
   ]
  },
  {
   "cell_type": "code",
   "execution_count": null,
   "metadata": {},
   "outputs": [],
   "source": [
    "def stats_after_modification():\n",
    "    station_bikes = bike_stats_station[['install_dockcount','current_dockcount']]\n",
    "    before_avg = station_bikes['install_dockcount'].mean()\n",
    "    after_avg = station_bikes['current_dockcount'].mean()\n",
    "    if before_avg > after_avg:\n",
    "        return(\"lose\") \n",
    "    else: \n",
    "        return(\"gain\") "
   ]
  },
  {
   "cell_type": "markdown",
   "metadata": {},
   "source": [
    "### 6.Come up with 3 more questions that can be answered with this data set."
   ]
  },
  {
   "cell_type": "markdown",
   "metadata": {},
   "source": [
    "a. What's the most common date for installing dockouts at stations?"
   ]
  },
  {
   "cell_type": "code",
   "execution_count": null,
   "metadata": {},
   "outputs": [],
   "source": [
    "def common_installation_date():\n",
    "    dockout_date = bike_stats_station[['install_date']].mode()\n",
    "    return dockout_date"
   ]
  },
  {
   "cell_type": "markdown",
   "metadata": {},
   "source": [
    "b.What are the top 10 longest trip durations?"
   ]
  },
  {
   "cell_type": "code",
   "execution_count": null,
   "metadata": {},
   "outputs": [],
   "source": [
    "def trips_longest_durations():\n",
    "    trip_duration = bike_stats_trip['tripduration'].sort_values(ascending=False)\n",
    "    return trip_duration[0:10]\n"
   ]
  },
  {
   "cell_type": "markdown",
   "metadata": {},
   "source": [
    "c.What's the average temperature of all trips taken?"
   ]
  },
  {
   "cell_type": "code",
   "execution_count": null,
   "metadata": {},
   "outputs": [],
   "source": [
    "def average_temp_of_all_trips():\n",
    "    average_temp = bike_stats_weather['Mean_Temperature_F'].mean()\n",
    "    return average_temp"
   ]
  },
  {
   "cell_type": "markdown",
   "metadata": {},
   "source": [
    "## Testing"
   ]
  },
  {
   "cell_type": "code",
   "execution_count": null,
   "metadata": {},
   "outputs": [],
   "source": [
    "def test():\n",
    "\n",
    "    def assert_equal(actual,expected):\n",
    "        assert actual == expected, f\"Expected {expected} but got {actual}\"\n",
    "\n",
    "    assert_equal(borrowed_bicycle_average_trip_duration(), 1178.2956753399776)\n",
    "    assert_equal(common_sharer_age()[0], 34)\n",
    "    assert_equal(average_precipitation(8), 0.018225806451612904)\n",
    "    assert_equal(precipitation_median(5), 0)\n",
    "    assert_equal(average_bike_number(),16.0)\n",
    "    assert_equal(stats_after_modification(), \"lose\")\n",
    "    assert_equal(common_installation_date().iloc[0].install_date, \"10/13/2014\")\n",
    "    assert_equal(trips_longest_durations().iloc[0], 28794.398)\n",
    "    assert_equal(average_temp_of_all_trips(), 56.5843023255814)\n",
    "\n",
    "\n",
    "    print(\"Success!!!\")\n",
    "\n",
    "test()"
   ]
  }
 ],
 "metadata": {
  "interpreter": {
   "hash": "c52ff65b5fb1e44c608831e9174f374640587beb139fe25f5b60e24eca398751"
  },
  "kernelspec": {
   "display_name": "Python 3.9.5 64-bit ('.venv': poetry)",
   "name": "python3"
  },
  "language_info": {
   "codemirror_mode": {
    "name": "ipython",
    "version": 3
   },
   "file_extension": ".py",
   "mimetype": "text/x-python",
   "name": "python",
   "nbconvert_exporter": "python",
   "pygments_lexer": "ipython3",
   "version": "3.9.5"
  },
  "orig_nbformat": 4
 },
 "nbformat": 4,
 "nbformat_minor": 2
}
