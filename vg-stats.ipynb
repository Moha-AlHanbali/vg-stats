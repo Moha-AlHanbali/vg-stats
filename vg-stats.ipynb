{
 "cells": [
  {
   "cell_type": "code",
   "execution_count": null,
   "metadata": {},
   "outputs": [],
   "source": []
  },
  {
   "cell_type": "code",
   "execution_count": null,
   "metadata": {},
   "outputs": [],
   "source": [
    "# def test():\n",
    "\n",
    "#     def assert_equal(actual,expected):\n",
    "#         assert actual == expected, f\"Expected {expected} but got {actual}\"\n",
    "\n",
    "#     assert_equal(most_common_publisher, None)\n",
    "#     assert_equal(most_common_platform, None)\n",
    "#     assert_equal(most_common_genre, None)\n",
    "#     assert_equal(top_twenty_highest_grossing_games.iloc[0].Name, None)\n",
    "#     assert_equal(top_twenty_highest_grossing_games.iloc[19].Name, None)\n",
    "#     assert_equal(na_median_sales, None)\n",
    "#     assert_equal(ten_median_na_seller_names, None)\n",
    "\n",
    "#     print(\"Success!!!\")\n",
    "\n",
    "# test()"
   ]
  }
 ],
 "metadata": {
  "interpreter": {
   "hash": "c52ff65b5fb1e44c608831e9174f374640587beb139fe25f5b60e24eca398751"
  },
  "kernelspec": {
   "display_name": "Python 3.9.5 64-bit ('.venv': poetry)",
   "name": "python3"
  },
  "language_info": {
   "codemirror_mode": {
    "name": "ipython",
    "version": 3
   },
   "file_extension": ".py",
   "mimetype": "text/x-python",
   "name": "python",
   "nbconvert_exporter": "python",
   "pygments_lexer": "ipython3",
   "version": "3.9.5"
  },
  "orig_nbformat": 4
 },
 "nbformat": 4,
 "nbformat_minor": 2
}
