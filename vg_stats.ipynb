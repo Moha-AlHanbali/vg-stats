{
 "cells": [
  {
   "cell_type": "markdown",
   "metadata": {},
   "source": [
    "# Lab: 12 - Data Analysis with Pandas\n",
    "\n",
    "## Videogames Sales - Mohammed Al-Hanbali - 25/10/2021"
   ]
  },
  {
   "cell_type": "code",
   "execution_count": null,
   "metadata": {},
   "outputs": [],
   "source": [
    "import pandas as pd"
   ]
  },
  {
   "cell_type": "code",
   "execution_count": null,
   "metadata": {},
   "outputs": [],
   "source": [
    "vg_sales = pd.read_csv('vgsales.csv') \n",
    "# vg_sales"
   ]
  },
  {
   "cell_type": "markdown",
   "metadata": {},
   "source": [
    "### 1.Which company is the most common video game publisher?\n"
   ]
  },
  {
   "cell_type": "code",
   "execution_count": null,
   "metadata": {},
   "outputs": [],
   "source": [
    "def most_common_publisher():\n",
    "    common_publisher = vg_sales['Publisher'].mode()\n",
    "    return common_publisher[0]"
   ]
  },
  {
   "cell_type": "markdown",
   "metadata": {},
   "source": [
    "### 2.What’s the most common platform?"
   ]
  },
  {
   "cell_type": "code",
   "execution_count": null,
   "metadata": {},
   "outputs": [],
   "source": [
    "def most_common_platform():\n",
    "    common_platform = vg_sales['Platform'].mode()\n",
    "    return common_platform[0]"
   ]
  },
  {
   "cell_type": "markdown",
   "metadata": {},
   "source": [
    "### 3.What about the most common genre?"
   ]
  },
  {
   "cell_type": "code",
   "execution_count": null,
   "metadata": {},
   "outputs": [],
   "source": [
    "def most_common_genre():\n",
    "    common_genre = vg_sales['Genre'].mode()\n",
    "    return common_genre[0]"
   ]
  },
  {
   "cell_type": "markdown",
   "metadata": {},
   "source": [
    "- Action"
   ]
  },
  {
   "cell_type": "markdown",
   "metadata": {},
   "source": [
    "### 4.What are the top 20 highest grossing games?"
   ]
  },
  {
   "cell_type": "code",
   "execution_count": null,
   "metadata": {},
   "outputs": [],
   "source": [
    "def top_twenty_highest_grossing_games():\n",
    "    high_gross = vg_sales[['Name', 'Global_Sales']].sort_values('Global_Sales', ascending=False)\n",
    "    return high_gross.head(20)"
   ]
  },
  {
   "cell_type": "markdown",
   "metadata": {},
   "source": [
    "### 5.For North American video game sales, what’s the median?"
   ]
  },
  {
   "cell_type": "code",
   "execution_count": null,
   "metadata": {},
   "outputs": [],
   "source": [
    "def na_median_sales():\n",
    "    na_sales= vg_sales[['Name', 'NA_Sales']].sort_values('NA_Sales', ascending=False)\n",
    "    na_median = na_sales['NA_Sales'].median()\n",
    "    return na_median\n"
   ]
  },
  {
   "cell_type": "code",
   "execution_count": null,
   "metadata": {},
   "outputs": [],
   "source": [
    "def ten_median_na_seller_names():\n",
    "    na_sales= vg_sales[['Name', 'NA_Sales']].sort_values('NA_Sales', ascending=False)\n",
    "    na_median = na_median_sales()\n",
    "    median_sales = na_sales[na_sales['NA_Sales'] == na_median]\n",
    "    return (median_sales[len(median_sales)//2-5:len(median_sales)//2+5])     "
   ]
  },
  {
   "cell_type": "markdown",
   "metadata": {},
   "source": [
    "### 6.For the top-selling game of all time, how many standard deviations above/below the mean are its sales for North America?"
   ]
  },
  {
   "cell_type": "code",
   "execution_count": null,
   "metadata": {},
   "outputs": [],
   "source": [
    "def na_most_selling_standard_deviations_to_mean():\n",
    "    top_selling = vg_sales[['Name', 'NA_Sales', 'Global_Sales']].sort_values('Global_Sales', ascending=False)\n",
    "    na_std = vg_sales['NA_Sales'].std()\n",
    "    na_mean = vg_sales['NA_Sales'].mean()\n",
    "    # Z score = (score + mean) / std\n",
    "    z_score = ((top_selling[0:1]['NA_Sales'][0]) + na_mean) / na_std\n",
    "    return z_score"
   ]
  },
  {
   "cell_type": "markdown",
   "metadata": {},
   "source": [
    "### 7.The Nintendo Wii seems to have outdone itself with games. How does its average number of sales compare with all of the other platforms?"
   ]
  },
  {
   "cell_type": "code",
   "execution_count": null,
   "metadata": {},
   "outputs": [],
   "source": [
    "def wii__global_sales_z_score():\n",
    "    global_sales = vg_sales[['Platform', 'Global_Sales']].sort_values('Global_Sales', ascending=False)\n",
    "    global_mean = global_sales['Global_Sales'].mean()\n",
    "    global_std = global_sales['Global_Sales'].std()\n",
    "\n",
    "    wii_sales = global_sales[vg_sales['Platform'] == 'Wii']\n",
    "    wii_mean = wii_sales['Global_Sales'].mean()\n",
    "\n",
    "    other_sales = global_sales[vg_sales['Platform'] != 'Wii']\n",
    "    other_mean = other_sales['Global_Sales'].mean()\n",
    "\n",
    "    wii_z_score = (wii_mean + global_mean) / global_std\n",
    "    return (f\"Wii ZScore: {wii_z_score}, Wii Average Global Sales: {wii_mean}, Other Platforms Average Global Sales: {other_mean}, Total Average Global Sales: {global_mean}\")"
   ]
  },
  {
   "cell_type": "markdown",
   "metadata": {},
   "source": [
    "### 8.Come up with 3 more questions that can be answered with this data set."
   ]
  },
  {
   "cell_type": "markdown",
   "metadata": {},
   "source": [
    "a.How do Nintendo's average sales in Japan compare to it's average sales in NA?"
   ]
  },
  {
   "cell_type": "code",
   "execution_count": null,
   "metadata": {},
   "outputs": [],
   "source": [
    "def nintendo_sales_na_to_jp():\n",
    "    publisher_sales = vg_sales[['Publisher', 'NA_Sales', 'JP_Sales', 'Global_Sales']].sort_values('Global_Sales', ascending=False)\n",
    "    nintendo_sales = publisher_sales[publisher_sales['Publisher'] == \"Nintendo\"]\n",
    "    nintendo_sales_na_mean = nintendo_sales['NA_Sales'].mean()\n",
    "    nintendo_sales_jp_mean = nintendo_sales['JP_Sales'].mean()\n",
    "\n",
    "    return (f\"Nintendo's average sales in NA: {nintendo_sales_na_mean} ,Nintendo's average sales in Japan: {nintendo_sales_jp_mean}\")"
   ]
  },
  {
   "cell_type": "markdown",
   "metadata": {},
   "source": [
    "b.What is the year with the most sales for Sony?"
   ]
  },
  {
   "cell_type": "code",
   "execution_count": null,
   "metadata": {},
   "outputs": [],
   "source": [
    "def sony_highest_sales_year():\n",
    "    year_sales = vg_sales[['Publisher', 'Year' ,'Global_Sales']].sort_values('Global_Sales', ascending=False)\n",
    "    ps_sales = year_sales[year_sales['Publisher'] == \"Sony Computer Entertainment\"][['Publisher', 'Year' ,'Global_Sales']]\n",
    "    return ps_sales['Year'][0:1].values[0]"
   ]
  },
  {
   "cell_type": "markdown",
   "metadata": {},
   "source": [
    "c.What's the title of the least selling 10 games of all time?"
   ]
  },
  {
   "cell_type": "code",
   "execution_count": null,
   "metadata": {},
   "outputs": [],
   "source": [
    "def least_selling_titles():\n",
    "    full_sales = vg_sales[['Name','Global_Sales']].sort_values('Global_Sales', ascending=False)\n",
    "    return full_sales[['Name','Global_Sales']].tail(10)"
   ]
  },
  {
   "cell_type": "markdown",
   "metadata": {},
   "source": [
    "## Testing"
   ]
  },
  {
   "cell_type": "code",
   "execution_count": null,
   "metadata": {},
   "outputs": [],
   "source": [
    "def test():\n",
    "\n",
    "    def assert_equal(actual,expected):\n",
    "        assert actual == expected, f\"Expected {expected} but got {actual}\"\n",
    "\n",
    "    assert_equal(most_common_publisher(), \"Electronic Arts\")\n",
    "    assert_equal(most_common_platform(), \"DS\")\n",
    "    assert_equal(most_common_genre(), \"Action\")\n",
    "    assert_equal(top_twenty_highest_grossing_games().iloc[0].Name, \"Wii Sports\")\n",
    "    assert_equal(top_twenty_highest_grossing_games().iloc[19].Name, \"Brain Age: Train Your Brain in Minutes a Day\")\n",
    "    assert_equal(na_median_sales(), 0.08)\n",
    "    assert_equal(ten_median_na_seller_names().iloc[0].Name, \"Tom Clancy's Rainbow Six: Rogue Spear\")\n",
    "    assert_equal(na_most_selling_standard_deviations_to_mean(), 51.127139822725475)\n",
    "    assert_equal(wii__global_sales_z_score(), \"Wii ZScore: 0.7953840576068296, Wii Average Global Sales: 0.6994037735849057, Other Platforms Average Global Sales: 0.5233896418516336, Total Average Global Sales: 0.5374406555006628\")\n",
    "    assert_equal(nintendo_sales_na_to_jp(), \"Nintendo's average sales in NA: 1.161977240398293 ,Nintendo's average sales in Japan: 0.647823613086771\")\n",
    "    assert_equal(sony_highest_sales_year(), 2001.0)\n",
    "    assert_equal(least_selling_titles().iloc[0].Name, \"Resistance Dual Pack\")\n",
    "    print(\"Success!!!\")\n",
    "\n",
    "test()"
   ]
  }
 ],
 "metadata": {
  "interpreter": {
   "hash": "c52ff65b5fb1e44c608831e9174f374640587beb139fe25f5b60e24eca398751"
  },
  "kernelspec": {
   "display_name": "Python 3.9.5 64-bit ('.venv': poetry)",
   "name": "python3"
  },
  "language_info": {
   "codemirror_mode": {
    "name": "ipython",
    "version": 3
   },
   "file_extension": ".py",
   "mimetype": "text/x-python",
   "name": "python",
   "nbconvert_exporter": "python",
   "pygments_lexer": "ipython3",
   "version": "3.9.5"
  },
  "orig_nbformat": 4
 },
 "nbformat": 4,
 "nbformat_minor": 2
}
